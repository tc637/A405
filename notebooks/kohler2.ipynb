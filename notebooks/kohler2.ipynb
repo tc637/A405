{
 "cells": [
  {
   "cell_type": "markdown",
   "metadata": {},
   "source": [
    " Show using two Taylor series expansions how to get  Lohmann 6.24:\n",
    "\n",
    "$S= a_w \\exp \\left [ \\frac{2\\sigma}{\\rho_l R_v T r} \\right ] \\approx \\left ( 1 + \\frac{a}{r} - \\frac{b}{r^3} \\right )$\n",
    "\n",
    "\n",
    "**First taylor series:**\n",
    "\n",
    "$a_w = \\left ( \\frac{n_w}{n_w + n_s} \\right ) = \\left ( \\frac{1}{1 + n_s/n_w} \\right ) = (1 + n_s/n_w)^{-1}$\n",
    "\n",
    "If $n_s/n_w  = x \\ll 1$  then expand $(1 + x)^{-1}$ in a Taylor series about x=0:\n",
    "\n",
    "$f^\\prime (0) = -(1 + 0 )^{-2} = -1$, $f^{\\prime \\prime} (0) = 2 ( 1 + 0 )^{-3} = 2$\n",
    "\n",
    "so $(1 + x)^{-1} \\approx 1 - x + 2x^2/2 + \\ldots$\n",
    "\n",
    "**Second taylor series:**\n",
    "\n",
    "$\\exp \\left [ \\frac{2\\sigma}{\\rho_l R_v T r} \\right ] = \\exp \\left ( \\frac{a}{r} \\right ) = \\exp(y)$\n",
    "\n",
    "if $y \\ll 1$ then expand exp in a taylor series about y=0:\n",
    "\n",
    "$f^\\prime (0) =\\exp(0) = 1$\n",
    "\n",
    "$f^{\\prime \\prime}(0) = 1$\n",
    "\n",
    "so $\\exp(y) \\approx 1 + y  + y^2/2 + \\ldots$\n",
    "\n",
    "**Combining: **\n",
    "\n",
    "$a_w \\exp \\left [ \\frac{2\\sigma}{\\rho_l R_v T r} \\right ] \\approx (1 - x + x^2 )(1 + y + y^2/2) = 1 + y - x + y^2/2 + x^2 + \\ldots$\n",
    "\n",
    "and keeping only first order terms:\n",
    "\n",
    "$S = 1 + y - x = 1 + \\frac{a}{r} - n_s/n_w$\n",
    "\n",
    "and since $n_w \\propto r^3$: $S = 1 + y - x = 1 + \\frac{a}{r} - \\frac{b}/{r^3}$\n",
    "\n",
    "\n"
   ]
  },
  {
   "cell_type": "markdown",
   "metadata": {},
   "source": [
    "2\\.  For the aerosol defined in the kohler.ipynb notebook ($10^{-19}$ kg, ammonium sulphate), inside a droplet of radius $r=1\\ \\mu m$\n",
    "      find the size of the smallest term you've kept (either $\\frac{a}{r}$ or $\\frac{b}{r^3}$ and compare it to\n",
    "      the size of the largest term you've dropped.   Repeat this for a droplet of radius   $r=0.1\\ \\mu m$\n",
    "\n"
   ]
  },
  {
   "cell_type": "code",
   "execution_count": 6,
   "metadata": {
    "collapsed": false
   },
   "outputs": [
    {
     "name": "stdout",
     "output_type": "stream",
     "text": [
      "kelvin: 1.128e-03 vs raoult 9.766e-06\n",
      "kelvin: 1.128e-01 vs raoult 9.766e+00\n"
     ]
    }
   ],
   "source": [
    "from a405thermo.constants import constants as c\n",
    "def find_terms(r):\n",
    "    Tinit=c.Tc + 15 #Temperature K\n",
    "    Ms=132 #ammonium sulphae kg/Kmole\n",
    "    Mw=18. #water kg/Kmole\n",
    "    Sigma=0.075  #N/m\n",
    "    vanHoff=3. #van hoff for ammonium bisulphate\n",
    "    #calculate kohler coefficients:\n",
    "    a=(2.*Sigma)/(c.Rv*Tinit*c.rhol)  #curvature term\n",
    "    mass_aero = 1.e-19  #kg\n",
    "    b=(vanHoff*Mw)/((4./3.)*np.pi*c.rhol*Ms)*mass_aero   #solution term\n",
    "    return (a/r,b/r**3.)\n",
    "\n",
    "kelvin_term,raoult_term=find_terms(1.e-6)\n",
    "print('kelvin: {:8.3e} vs raoult {:8.3e}'.format(kelvin_term,raoult_term))\n",
    "\n",
    "kelvin_term,raoult_term=find_terms(1.e-8)\n",
    "print('kelvin: {:8.3e} vs raoult {:8.3e}'.format(kelvin_term,raoult_term))"
   ]
  },
  {
   "cell_type": "markdown",
   "metadata": {
    "collapsed": true
   },
   "source": [
    " Suppose you have $r_l$ =1 g/kg of liquid water spread among N spherical drops of radius 10 $\\mu m$.  Compare the surface energy of this\n",
    "      population (which we've been neglecting) with the enthalpy required to vaporize it:  $l_v r_l$.  Is it negligible in comparison?\n",
    "\n"
   ]
  },
  {
   "cell_type": "code",
   "execution_count": 11,
   "metadata": {
    "collapsed": false
   },
   "outputs": [
    {
     "name": "stdout",
     "output_type": "stream",
     "text": [
      "there are N=2.39e+08 drops/kg\n",
      "surface_energy  0.023 J/kg, vapor_energy 2501.000 J/kg\n"
     ]
    }
   ],
   "source": [
    "sigma = 0.075\n",
    "rhol=1000\n",
    "rl=1.e-3\n",
    "r=1.e-5\n",
    "N = rl/(4./3.*np.pi*r**3.*rhol)\n",
    "surface_energy = N*sigma*4*np.pi*r**2.\n",
    "vapor_energy = c.lv0*rl\n",
    "print('there are N={:6.3g} drops/kg'.format(N))\n",
    "print('surface_energy {:6.3f} J/kg, vapor_energy {:6.3f} J/kg'.format(surface_energy,vapor_energy))\n"
   ]
  },
  {
   "cell_type": "code",
   "execution_count": null,
   "metadata": {
    "collapsed": true
   },
   "outputs": [],
   "source": []
  }
 ],
 "metadata": {
  "kernelspec": {
   "display_name": "Python 3",
   "language": "python",
   "name": "python3"
  },
  "language_info": {
   "codemirror_mode": {
    "name": "ipython",
    "version": 3
   },
   "file_extension": ".py",
   "mimetype": "text/x-python",
   "name": "python",
   "nbconvert_exporter": "python",
   "pygments_lexer": "ipython3",
   "version": "3.5.1"
  }
 },
 "nbformat": 4,
 "nbformat_minor": 0
}
