{
 "cells": [
  {
   "cell_type": "markdown",
   "metadata": {},
   "source": [
    "### Kohler problem\n",
    "\n",
    "1) Plot the Kohler curve for the aerosol on page 2 of the Kohler notes"
   ]
  },
  {
   "cell_type": "code",
   "execution_count": 19,
   "metadata": {
    "collapsed": false
   },
   "outputs": [
    {
     "name": "stdout",
     "output_type": "stream",
     "text": [
      "critical radius = 0.161 microns\n"
     ]
    }
   ],
   "source": [
    "from a405thermo.constants import constants as c\n",
    "Tinit=c.Tc + 15 #Temperature K\n",
    "Sinit=0.9 #e/es\n",
    "Ms=132 #ammonium sulphae kg/Kmole\n",
    "Mw=18. #water kg/Kmole\n",
    "Sigma=0.075  #N/m\n",
    "vanHoff=3. #van hoff for ammonium bisulphate\n",
    "#calculate kohler coefficients:\n",
    "a=(2.*Sigma)/(c.Rv*Tinit*c.rhol)  #curvature term\n",
    "mass_aero = 1.e-19  #kg\n",
    "b=(vanHoff*Mw)/((4./3.)*np.pi*c.rhol*Ms)*mass_aero   #solution term\n",
    "rcrit = (3*b/a)**0.5  #critical radius\n",
    "print('critical radius = {:5.3f} microns'.format(rcrit*1.e6))"
   ]
  },
  {
   "cell_type": "code",
   "execution_count": 20,
   "metadata": {
    "collapsed": false
   },
   "outputs": [
    {
     "data": {
      "image/png": "[encoded data removed]",
      "text/plain": [
       "<matplotlib.figure.Figure at 0x10e2482b0>"
      ]
     },
     "metadata": {},
     "output_type": "display_data"
    }
   ],
   "source": [
    "%matplotlib inline\n",
    "def find_S(r):\n",
    "    S= 1 + a/r - b/r**3\n",
    "    return S\n",
    "\n",
    "    \n",
    "plt.close('all')\n",
    "import matplotlib\n",
    "matplotlib.style.use('ggplot')\n",
    "fig,ax = plt.subplots(1,1)\n",
    "rvals=np.linspace(0.05,0.3,50)*1.e-6\n",
    "Svals = find_S(rvals)\n",
    "ax.plot(rvals*1.e6,(Svals -1)*1.e2)\n",
    "out=ax.set(ylim=[-1,1],xlim = [0.05,0.3],\n",
    "       ylabel='Supersaturation (e/es - 1) %',xlabel='radius (microns)')\n"
   ]
  },
  {
   "cell_type": "markdown",
   "metadata": {},
   "source": [
    "### 2.  Find haze particle equilibrium radius at S=0.9"
   ]
  },
  {
   "cell_type": "code",
   "execution_count": 21,
   "metadata": {
    "collapsed": false
   },
   "outputs": [
    {
     "name": "stdout",
     "output_type": "stream",
     "text": [
      "left bracket = 3.600e-02 microns, right bracket=1.640e-01 microns\n",
      "equlibrium radius at S=0.9 is 0.043 microns\n"
     ]
    }
   ],
   "source": [
    "def find_diff(r,S_target):\n",
    "    return S_target - find_S(r)\n",
    "\n",
    "S_target = 0.90\n",
    "r_start = 0.1e-6\n",
    "from a405thermo.rootfinder import find_interval, fzero\n",
    "brackets = np.array(find_interval(find_diff,r_start,S_target))\n",
    "print('left bracket = {:8.3e} microns, right bracket={:8.3e} microns'.format(*(brackets*1.e6)))\n",
    "\n",
    "equil_rad = fzero(find_diff,brackets,S_target)\n",
    "print('equlibrium radius at S={} is {:5.3f} microns'.format(S_target,equil_rad*1.e6))\n"
   ]
  },
  {
   "cell_type": "code",
   "execution_count": null,
   "metadata": {
    "collapsed": true
   },
   "outputs": [],
   "source": []
  }
 ],
 "metadata": {
  "kernelspec": {
   "display_name": "Python 3",
   "language": "python",
   "name": "python3"
  },
  "language_info": {
   "codemirror_mode": {
    "name": "ipython",
    "version": 3
   },
   "file_extension": ".py",
   "mimetype": "text/x-python",
   "name": "python",
   "nbconvert_exporter": "python",
   "pygments_lexer": "ipython3",
   "version": "3.5.1"
  }
 },
 "nbformat": 4,
 "nbformat_minor": 0
}
