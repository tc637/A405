{
 "cells": [
  {
   "cell_type": "code",
   "execution_count": 1,
   "metadata": {
    "collapsed": false
   },
   "outputs": [],
   "source": [
    "import numpy as np\n",
    "import matplotlib.pyplot as plt\n",
    "import a405thermo.rootfinder as rf\n",
    "plt.style.use(\"ggplot\")"
   ]
  },
  {
   "cell_type": "code",
   "execution_count": 2,
   "metadata": {
    "collapsed": false
   },
   "outputs": [
    {
     "data": {
      "text/plain": [
       "<matplotlib.text.Text at 0xa8a2c2bac8>"
      ]
     },
     "execution_count": 2,
     "metadata": {},
     "output_type": "execute_result"
    },
    {
     "data": {
      "image/png": "[encoded data removed]",
      "text/plain": [
       "<matplotlib.figure.Figure at 0xa8a2b1b588>"
      ]
     },
     "metadata": {},
     "output_type": "display_data"
    }
   ],
   "source": [
    "%matplotlib inline\n",
    "\n",
    "# constants\n",
    "temp = 273.15\n",
    "sigma = 7.5e-2\n",
    "rho_l = 1.\n",
    "Rv = 461\n",
    "\n",
    "a_param = 2*sigma/(rho_l*Rv*temp)\n",
    "\n",
    "radii = np.linspace(0.2e-6,0.6e-6,100)\n",
    "\n",
    "# hold ns constant, vary nw with radius\n",
    "ns = 2.3e-18\n",
    "nw = (rho_l*(4/3)*np.pi*radii**3)/0.018\n",
    "\n",
    "# solute term\n",
    "aw = 1 - ns/nw\n",
    "\n",
    "# saturation ratio\n",
    "sat_rat = aw*np.exp(a_param/(radii))\n",
    "\n",
    "fig,ax = plt.subplots(1,1,figsize=(6,6))\n",
    "ax.plot(radii*1e6, sat_rat)\n",
    "ax.set_title(\"Kohler Curve\")\n",
    "ax.set_xlabel(r\"Radius ($\\mu m$)\")\n",
    "ax.set_ylabel(r\"Saturation Ratio\")"
   ]
  },
  {
   "cell_type": "code",
   "execution_count": 3,
   "metadata": {
    "collapsed": false
   },
   "outputs": [
    {
     "name": "stdout",
     "output_type": "stream",
     "text": [
      "The equilibrium radius is 0.215 microns\n"
     ]
    }
   ],
   "source": [
    "def calc_kohler(r_guess, temp, rh):\n",
    "    \"\"\"Calculate Kohler curve by rootfind\n",
    "        Input:\n",
    "            r_guess, (m)\n",
    "            temp, (K)\n",
    "            rh, relative humidity\n",
    "            \n",
    "        Output:\n",
    "            rh - rh_guess\n",
    "    \"\"\"\n",
    "    sigma = 7.5e-2\n",
    "    rho_l = 1.\n",
    "    Rv = 461\n",
    "    rho_l = 1\n",
    "    water_mol = 0.018\n",
    "    ns = 2.3e-18 # assume constant\n",
    "    \n",
    "    a_param = 2*sigma/(rho_l*Rv*temp)   \n",
    "    nw = (rho_l*4/3*np.pi*r_guess**3)/water_mol\n",
    "    aw = 1 - ns/nw # solute term\n",
    "    \n",
    "    rh_guess = aw*np.exp(a_param/(r_guess))\n",
    "    \n",
    "    return rh-rh_guess\n",
    "\n",
    "radius = 0.2e-6 # centre guess around here\n",
    "rh = 0.9\n",
    "temp = 15 + 273.15\n",
    "brackets = rf.find_interval(calc_kohler, radius, temp, rh)\n",
    "\n",
    "equi_rad = rf.fzero(calc_kohler, brackets, temp, rh)\n",
    "print(\"The equilibrium radius is {:.3} microns\".format(equi_rad*1e6))"
   ]
  }
 ],
 "metadata": {
  "kernelspec": {
   "display_name": "Python 3",
   "language": "python",
   "name": "python3"
  },
  "language_info": {
   "codemirror_mode": {
    "name": "ipython",
    "version": 3
   },
   "file_extension": ".py",
   "mimetype": "text/x-python",
   "name": "python",
   "nbconvert_exporter": "python",
   "pygments_lexer": "ipython3",
   "version": "3.5.1"
  }
 },
 "nbformat": 4,
 "nbformat_minor": 0
}
