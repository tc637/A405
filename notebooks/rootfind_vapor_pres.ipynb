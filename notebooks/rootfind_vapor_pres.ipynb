{
 "cells": [
  {
   "cell_type": "code",
   "execution_count": 1,
   "metadata": {
    "collapsed": true
   },
   "outputs": [],
   "source": [
    "%matplotlib inline\n",
    "from scipy import optimize\n",
    "from matplotlib import pyplot as plt\n",
    "import numpy as np\n",
    "plt.style.use('ggplot')\n",
    "\n",
    "\n",
    "# helpers\n",
    "\n",
    "def calc_lv(temp):\n",
    "    \"\"\"Helper to calculate enthalpy of evaporation\n",
    "    Inputs: temp, (K), float\n",
    "    \n",
    "    Outputs: lv, (J kg^-1), float\n",
    "    \n",
    "    \"\"\"\n",
    "    \n",
    "    # constants\n",
    "    l0 = 2.501e6 # J kg^-1\n",
    "    T0 = 273.15 # K\n",
    "    \n",
    "    cpv = 1870. # J kg^-1 K^-1\n",
    "    cl = 4187. # J kg^-1 K^-1\n",
    "        \n",
    "    lv = (cpv - cl)*(temp - T0) + l0\n",
    "    \n",
    "    return(lv)\n",
    "\n",
    "\n",
    "def calc_phil(temp):\n",
    "    \"\"\"Helper to calculate liquid entropy\n",
    "    Inputs: temp, (K), float\n",
    "    \n",
    "    Outputs: phil, (J kg^-1 K^-1), float\n",
    "    \n",
    "    \"\"\"\n",
    "    \n",
    "    # constants\n",
    "    cl = 4187. # J kg^-1 K^-1\n",
    "    Tp = 273.16 # K\n",
    "    \n",
    "    phil = cl*np.log(temp/Tp)\n",
    "    \n",
    "    return(phil)\n",
    "\n",
    "\n",
    "def root_func_es(es_guess, temp, lv, phil):\n",
    "    \"\"\"Guess function for es\n",
    "    Inputs: temp, (K), float\n",
    "            lv, (J kg^-1), float\n",
    "            phil, (J kg^-1 K^-1), float\n",
    "    \n",
    "    Outputs: difference between guess and target -- should be 0 when es is a root\n",
    "    \n",
    "    \"\"\"\n",
    "    \n",
    "    # constants\n",
    "    cpv = 1870. # J kg^-1 K^-1 \n",
    "    Tp = 273.16 # K\n",
    "    Rv = 461.5 # J kg^-1 K^-1\n",
    "    es0 = 6.11*100 # Pa\n",
    "    \n",
    "    lv0 = 2.501e6 # J kg^-1\n",
    "    phi0 = lv0/Tp # J kg^-1 K^-1\n",
    "    \n",
    "    phiv_guess = cpv*np.log(temp/Tp) - Rv*np.log(es_guess/es0) + phi0\n",
    "    \n",
    "    temp_guess = lv/(phiv_guess - phil)\n",
    "    \n",
    "    return temp - temp_guess"
   ]
  },
  {
   "cell_type": "code",
   "execution_count": 2,
   "metadata": {
    "collapsed": true
   },
   "outputs": [],
   "source": [
    "# main rootfinding function\n",
    "\n",
    "def calc_es(temp):\n",
    "    \"\"\"Use rootfind to calculate saturation vapour pressure\n",
    "    \n",
    "    Inputs: temp, (C), float \n",
    "    \n",
    "    Outputs: es, (Pa), float \n",
    "    \n",
    "    \"\"\"\n",
    "    temp = temp + 273.15 # K\n",
    "    \n",
    "    phil = calc_phil(temp)\n",
    "    lv = calc_lv(temp)\n",
    "    \n",
    "    left = 0 # Pa\n",
    "    right = 10000 # Pa\n",
    "    \n",
    "    es = optimize.zeros.brentq(root_func_es,left,right,args=(temp, lv, phil))\n",
    "    \n",
    "    return(es)"
   ]
  },
  {
   "cell_type": "code",
   "execution_count": 3,
   "metadata": {
    "collapsed": false
   },
   "outputs": [
    {
     "name": "stdout",
     "output_type": "stream",
     "text": [
      "es =  6.11 hPa at temp of  0.00 C\n",
      "es =  7.17 hPa at temp of  2.22 C\n",
      "es =  8.38 hPa at temp of  4.44 C\n",
      "es =  9.78 hPa at temp of  6.67 C\n",
      "es = 11.38 hPa at temp of  8.89 C\n",
      "es = 13.21 hPa at temp of 11.11 C\n",
      "es = 15.29 hPa at temp of 13.33 C\n",
      "es = 17.65 hPa at temp of 15.56 C\n",
      "es = 20.33 hPa at temp of 17.78 C\n",
      "es = 23.35 hPa at temp of 20.00 C\n"
     ]
    },
    {
     "name": "stderr",
     "output_type": "stream",
     "text": [
      "C:\\Users\\Timothy\\Anaconda3\\lib\\site-packages\\ipykernel\\__main__.py:66: RuntimeWarning: divide by zero encountered in log\n"
     ]
    }
   ],
   "source": [
    "temps = np.linspace(0,20,10) # C\n",
    "\n",
    "root_es_list = []\n",
    "for temp in temps:\n",
    "    root_es_list.append(calc_es(temp)/100.)\n",
    "    print('es = {:5.2f} hPa at temp of {:5.2f} C'.format(root_es_list[-1],temp))"
   ]
  },
  {
   "cell_type": "code",
   "execution_count": 4,
   "metadata": {
    "collapsed": false
   },
   "outputs": [
    {
     "name": "stdout",
     "output_type": "stream",
     "text": [
      "approx es =  6.11 hPa at temp of  0.00 C\n",
      "approx es =  7.17 hPa at temp of  2.22 C\n",
      "approx es =  8.38 hPa at temp of  4.44 C\n",
      "approx es =  9.77 hPa at temp of  6.67 C\n",
      "approx es = 11.36 hPa at temp of  8.89 C\n",
      "approx es = 13.16 hPa at temp of 11.11 C\n",
      "approx es = 15.21 hPa at temp of 13.33 C\n",
      "approx es = 17.52 hPa at temp of 15.56 C\n",
      "approx es = 20.13 hPa at temp of 17.78 C\n",
      "approx es = 23.07 hPa at temp of 20.00 C\n"
     ]
    }
   ],
   "source": [
    "# equation 17 (Thompkins 2.13)\n",
    "\n",
    "def approx_es(temp):\n",
    "    \"\"\"Simple form of Clausius-Clapeyron equation for saturated vapor pressure\n",
    "    \n",
    "    Inputs: temp, (C), float \n",
    "    \n",
    "    Outputs: es, (Pa), float \n",
    "    \n",
    "    \"\"\"\n",
    "    \n",
    "    T0 = 273.15 # K\n",
    "    Rv = 461.5 # J kg^-1 K^-1\n",
    "    es0 = 6.11*100 # Pa\n",
    "\n",
    "    temp = temp + 273.15 # K\n",
    "    lv = calc_lv(temp)\n",
    "    \n",
    "    es = es0*np.exp(lv/Rv*(1/T0 - 1/temp))\n",
    "    \n",
    "    return(es)\n",
    "\n",
    "approx_es_list = []\n",
    "\n",
    "for temp in temps:\n",
    "    approx_es_list.append(approx_es(temp)/100.)\n",
    "    print('approx es = {:5.2f} hPa at temp of {:5.2f} C'.format(approx_es_list[-1],temp))"
   ]
  },
  {
   "cell_type": "code",
   "execution_count": 5,
   "metadata": {
    "collapsed": false
   },
   "outputs": [
    {
     "data": {
      "text/plain": [
       "<matplotlib.legend.Legend at 0x5b77fbea20>"
      ]
     },
     "execution_count": 5,
     "metadata": {},
     "output_type": "execute_result"
    },
    {
     "data": {
      "image/png": "[encoded data removed]",
      "text/plain": [
       "<matplotlib.figure.Figure at 0x5b77e48470>"
      ]
     },
     "metadata": {},
     "output_type": "display_data"
    }
   ],
   "source": [
    "fig,ax = plt.subplots(1,1,figsize=(8,6))\n",
    "\n",
    "ax.plot(temps, root_es_list, label=\"rootfind\")\n",
    "ax.plot(temps, approx_es_list, label=\"approx\")\n",
    "ax.set_xlabel(r\"Temperature ($^o$C)\")\n",
    "ax.set_ylabel(r\"Saturation Vapour Pressure (hPa)\")\n",
    "ax.set_title(r\"Rootfinding and Approximate (Clausius-Clapeyron) Methods for Calculating $e_s$\")\n",
    "ax.legend(loc=\"best\")"
   ]
  }
 ],
 "metadata": {
  "kernelspec": {
   "display_name": "Python 3",
   "language": "python",
   "name": "python3"
  },
  "language_info": {
   "codemirror_mode": {
    "name": "ipython",
    "version": 3
   },
   "file_extension": ".py",
   "mimetype": "text/x-python",
   "name": "python",
   "nbconvert_exporter": "python",
   "pygments_lexer": "ipython3",
   "version": "3.5.1"
  }
 },
 "nbformat": 4,
 "nbformat_minor": 0
}
