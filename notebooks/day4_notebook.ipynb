{
 "cells": [
  {
   "cell_type": "markdown",
   "metadata": {},
   "source": [
    "#  Entropy problem\n",
    "\n",
    "Consider two compartments, each with a volume of 1 $m^3$, separated by a rigid, perfectly insulating membrane.\n",
    "\n",
    "Initially T_A = 300 K and p_A = $10^5$ Pa, and T_B= 100 K and p_B = 10^3 Pa.  Suppose the membrane breaks.  Find the final temperature and pressure in the 2 m^3 compartment.   Does the total entropy change?  By how much?"
   ]
  },
  {
   "cell_type": "code",
   "execution_count": null,
   "metadata": {
    "collapsed": true
   },
   "outputs": [],
   "source": []
  }
 ],
 "metadata": {
  "kernelspec": {
   "display_name": "Python 3",
   "language": "python",
   "name": "python3"
  },
  "language_info": {
   "codemirror_mode": {
    "name": "ipython",
    "version": 3
   },
   "file_extension": ".py",
   "mimetype": "text/x-python",
   "name": "python",
   "nbconvert_exporter": "python",
   "pygments_lexer": "ipython3",
   "version": "3.4.3"
  }
 },
 "nbformat": 4,
 "nbformat_minor": 0
}
