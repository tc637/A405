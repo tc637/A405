{
 "cells": [
  {
   "cell_type": "markdown",
   "metadata": {},
   "source": [
    "# Using modules in python\n",
    "\n"
   ]
  },
  {
   "cell_type": "markdown",
   "metadata": {},
   "source": [
    "## Putting our code repository in your import path\n",
    "\n",
    "All the functionality in Python is organized in packages and modules, which are described in more detail in [Pine Section 2.4](http://clouds.eos.ubc.ca/~phil/djpine_python/chap2/chap2_basics.html#python-modules).  To see where Python is looking for modules, print the sys.path variable:"
   ]
  },
  {
   "cell_type": "code",
   "execution_count": 8,
   "metadata": {
    "collapsed": false
   },
   "outputs": [
    {
     "name": "stdout",
     "output_type": "stream",
     "text": [
      "['', '/Users/phil/repos/sphinx-bootstrap-theme/build/lib', '/Users/phil/repos/phil_bootstrap_theme/build/lib', '/Users/phil/repos/sphinxcontrib-fulltoc', '/Users/phil/repos/numeric', '/Users/phil/repos/bitly-api-python', '/Users/phil/repos/pythonlibs', '/Users/phil/repos/e340repo/code', '/Users/phil/repos/atsc500/a500_code', '/Users/phil/repos/gists.cli', '/Users/phil/miniconda3/lib/python34.zip', '/Users/phil/miniconda3/lib/python3.4', '/Users/phil/miniconda3/lib/python3.4/plat-darwin', '/Users/phil/miniconda3/lib/python3.4/lib-dynload', '/Users/phil/miniconda3/lib/python3.4/site-packages/Sphinx-1.3.1-py3.4.egg', '/Users/phil/miniconda3/lib/python3.4/site-packages', '/Users/phil/miniconda3/lib/python3.4/site-packages/setuptools-19.1.1-py3.4.egg', '/Users/phil/miniconda3/lib/python3.4/site-packages/IPython/extensions', '/Users/phil/.ipython', '/Users/phil/repos/A405']\n"
     ]
    }
   ],
   "source": [
    "import sys\n",
    "print(sys.path)"
   ]
  },
  {
   "cell_type": "markdown",
   "metadata": {},
   "source": [
    "As in matlab, Python looks through each of these folders in order until if matches the name of the module you want to import.   When you install a module with conda, it goes by default into one of the site-packages folder:"
   ]
  },
  {
   "cell_type": "code",
   "execution_count": 9,
   "metadata": {
    "collapsed": false
   },
   "outputs": [
    {
     "name": "stdout",
     "output_type": "stream",
     "text": [
      "['/Users/phil/miniconda3/lib/python3.4/site-packages', '/Users/phil/miniconda3/lib/site-python']\n"
     ]
    }
   ],
   "source": [
    "import site\n",
    "print(site.getsitepackages())"
   ]
  },
  {
   "cell_type": "markdown",
   "metadata": {},
   "source": [
    "In order to import your own modules they need to be either in the folder you started ipython in, or in another folder you've added to sys.path.  We want our A405 git repository to be searched automatically for modules, so we need to add that directory to sys.path every time we start ipython.  To accomplish this, do the following:\n",
    "\n",
    "1.  From a cmd or bash shell, create a default IPython profile:\n",
    "\n",
    "    ```\n",
    "        > ipython profile create\n",
    "    ```\n",
    "    \n",
    "2.  Find out where ipython is keeping your profile:\n",
    "\n",
    "    ```\n",
    "        > ipython locate profile\n",
    "        /Users/phil/.ipython/profile_default\n",
    "    ```\n",
    "    \n",
    "3.  Using an editor, open a file in profile_default/startup  called **00first.py** and add two lines\n",
    "    to put your repository in the path (for example) here's a file for Windows machines in the M203 lab:\n",
    "    \n",
    "    ```\n",
    "        import site\n",
    "        site.addsitedir('z:\\\\repos\\\\A405')\n",
    "        print(\"executed startup file\")\n",
    "    ```\n",
    "    \n",
    "    and here's a setting for a Mac:\n",
    "    \n",
    "    ```\n",
    "        import site\n",
    "        site.addsitedir('/Users/phil/repos/A405')\n",
    "        print(\"executed startup file\")\n",
    "    ```\n",
    "\n",
    "4.  Restart ipython and do an  \"import sys;print(sys.path)\" to confirm that the directory has\n",
    "    been added to your path\n",
    "    \n",
    "\n",
    "\n"
   ]
  },
  {
   "cell_type": "code",
   "execution_count": 10,
   "metadata": {
    "collapsed": false
   },
   "outputs": [
    {
     "name": "stdout",
     "output_type": "stream",
     "text": [
      "['', '/Users/phil/repos/sphinx-bootstrap-theme/build/lib', '/Users/phil/repos/phil_bootstrap_theme/build/lib', '/Users/phil/repos/sphinxcontrib-fulltoc', '/Users/phil/repos/numeric', '/Users/phil/repos/bitly-api-python', '/Users/phil/repos/pythonlibs', '/Users/phil/repos/e340repo/code', '/Users/phil/repos/atsc500/a500_code', '/Users/phil/repos/gists.cli', '/Users/phil/miniconda3/lib/python34.zip', '/Users/phil/miniconda3/lib/python3.4', '/Users/phil/miniconda3/lib/python3.4/plat-darwin', '/Users/phil/miniconda3/lib/python3.4/lib-dynload', '/Users/phil/miniconda3/lib/python3.4/site-packages/Sphinx-1.3.1-py3.4.egg', '/Users/phil/miniconda3/lib/python3.4/site-packages', '/Users/phil/miniconda3/lib/python3.4/site-packages/setuptools-19.1.1-py3.4.egg', '/Users/phil/miniconda3/lib/python3.4/site-packages/IPython/extensions', '/Users/phil/.ipython', '/Users/phil/repos/A405']\n"
     ]
    }
   ],
   "source": [
    "import sys\n",
    "print(sys.path)"
   ]
  },
  {
   "cell_type": "markdown",
   "metadata": {},
   "source": [
    "## Using packages"
   ]
  },
  {
   "cell_type": "markdown",
   "metadata": {},
   "source": [
    "In Python, a group of modules in the same directory is called a package.  Python recognizes a directory as a package because the directory contains a file called *__init__.py*.  I have created a package called *a405thermo*, which contains the module *intro.py* that defines the function *hello*.   You should be able to import and run the function like this:"
   ]
  },
  {
   "cell_type": "code",
   "execution_count": 1,
   "metadata": {
    "collapsed": false
   },
   "outputs": [
    {
     "name": "stdout",
     "output_type": "stream",
     "text": [
      "you have imported a modified intro.py\n"
     ]
    }
   ],
   "source": [
    "from a405thermo import intro\n",
    "intro.hello()"
   ]
  },
  {
   "cell_type": "markdown",
   "metadata": {},
   "source": [
    "## Reloading modules"
   ]
  },
  {
   "cell_type": "markdown",
   "metadata": {},
   "source": [
    "One quirk of python is that it ignores any changes in a module unless you explicitly reload it.  That's because checking dozens of modules every time you issue a command would cause python to be frustratingly slow.  So instead you need to import and call the reload function.   To see this, edit the intro.py file (making sure you are off of the master branch) so that hello() prints something different.  Then reload and run the new function like this:"
   ]
  },
  {
   "cell_type": "code",
   "execution_count": 12,
   "metadata": {
    "collapsed": false
   },
   "outputs": [
    {
     "name": "stdout",
     "output_type": "stream",
     "text": [
      "you have imported a modified intro.py\n"
     ]
    }
   ],
   "source": [
    "from importlib import reload\n",
    "reload(intro)\n",
    "intro.hello()"
   ]
  },
  {
   "cell_type": "code",
   "execution_count": null,
   "metadata": {
    "collapsed": true
   },
   "outputs": [],
   "source": []
  }
 ],
 "metadata": {
  "kernelspec": {
   "display_name": "Python 3",
   "language": "python",
   "name": "python3"
  },
  "language_info": {
   "codemirror_mode": {
    "name": "ipython",
    "version": 3
   },
   "file_extension": ".py",
   "mimetype": "text/x-python",
   "name": "python",
   "nbconvert_exporter": "python",
   "pygments_lexer": "ipython3",
   "version": "3.4.3"
  }
 },
 "nbformat": 4,
 "nbformat_minor": 0
}
