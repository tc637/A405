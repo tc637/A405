{
 "cells": [
  {
   "cell_type": "markdown",
   "metadata": {},
   "source": [
    "#### ATSC 405 exercise: eqstate.py\n",
    "\n",
    "Hadleigh Thompson\n",
    "\n",
    "January 2016\n"
   ]
  },
  {
   "cell_type": "markdown",
   "metadata": {},
   "source": [
    "#### Instructions\n",
    "\n",
    "Email a ipython notebook that defines a function called “eqstate” and uses it to calculate the density of dry air at a pressure of 80 kPa and temperatures of temp=[280, 290, 300] K."
   ]
  },
  {
   "cell_type": "markdown",
   "metadata": {},
   "source": [
    "#### Answer"
   ]
  },
  {
   "cell_type": "code",
   "execution_count": 63,
   "metadata": {
    "collapsed": false,
    "scrolled": true
   },
   "outputs": [
    {
     "name": "stdout",
     "output_type": "stream",
     "text": [
      "At temp: 280.0 K, density of dry air = 0.99534675 kg.m^-3\n",
      "At temp: 290.0 K, density of dry air = 0.96102445 kg.m^-3\n",
      "At temp: 300.0 K, density of dry air = 0.92899030 kg.m^-3\n"
     ]
    },
    {
     "data": {
      "text/plain": [
       "<matplotlib.legend.Legend at 0x10b5f7dd8>"
      ]
     },
     "execution_count": 63,
     "metadata": {},
     "output_type": "execute_result"
    },
    {
     "data": {
      "image/png": "[encoded data removed]",
      "text/plain": [
       "<matplotlib.figure.Figure at 0x10badc940>"
      ]
     },
     "metadata": {},
     "output_type": "display_data"
    }
   ],
   "source": [
    "import numpy as np\n",
    "import matplotlib.pyplot as plt\n",
    "%matplotlib inline\n",
    "\n",
    "\n",
    "\n",
    "def eqstate(listoftemps):\n",
    "    \"\"\"\n",
    "    list of floats --> float\n",
    "    \n",
    "    uses the ideal gas law to calculate density of an air parcel at fixed pressure of 80 kPa\n",
    "    \n",
    "    P = rho * Rd * T    # Stull, pg 14, eqn 1.18\n",
    "    \n",
    "    in: list of temperatures (K)\n",
    "    \n",
    "    out: list of densities of dry air (kg.m^-3)\n",
    "    \n",
    "    \"\"\"\n",
    "    P = 80e+3           # Pressure, Pa\n",
    "    Rd = 287.05        # gas constant for dry air, J mole^-1 K^-1\n",
    "    \n",
    "    list_of_rho = [(P / (Rd * temp)) for temp in listoftemps]\n",
    "    \n",
    "    return list_of_rho\n",
    "\n",
    "\n",
    "temps = [280, 290, 300]\n",
    "\n",
    "rho = eqstate(temps)\n",
    "\n",
    "results = zip(temps,rho)\n",
    "\n",
    "[print('At temp: %2.1f K, density of dry air = %2.8f kg.m^-3' %(t,r)) for (t,r) in (results)]\n",
    "\n",
    "plt.plot(temp, rho, label='density at 80kPa')\n",
    "plt.xlabel('Temperature $K$')\n",
    "plt.ylabel('Density $(kg.m^{-3})$')\n",
    "plt.legend()\n"
   ]
  }
 ],
 "metadata": {
  "kernelspec": {
   "display_name": "Python 3",
   "language": "python",
   "name": "python3"
  },
  "language_info": {
   "codemirror_mode": {
    "name": "ipython",
    "version": 3
   },
   "file_extension": ".py",
   "mimetype": "text/x-python",
   "name": "python",
   "nbconvert_exporter": "python",
   "pygments_lexer": "ipython3",
   "version": "3.4.3"
  }
 },
 "nbformat": 4,
 "nbformat_minor": 0
}
