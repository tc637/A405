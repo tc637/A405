{
 "cells": [
  {
   "cell_type": "markdown",
   "metadata": {},
   "source": [
    "# A405 final problem\n",
    "\n",
    "The cells below read in pres (hPa), hght (m), temp (C), dwpt (C) stored as a dataframe\n",
    "in final_sounding.h5 dataframe \n",
    "\n",
    "For each question, insert a cell or cells that answers the question.  You are free to use any code in the github master branch, but double check before you hand in your notebook that it runs on a clean checkout of the\n",
    "master branch (i.e. that you've included all your own code).\n",
    "\n",
    "Hand in via email  (which may not work if the attachment is too big), or by sharing a dropbox-like url.\n",
    "\n",
    "Due on Wednesday, April 20 at 9am.\n",
    "\n",
    "Good luck, and don't hesitate to ask if anything is unclear.\n"
   ]
  },
  {
   "cell_type": "code",
   "execution_count": 148,
   "metadata": {
    "collapsed": false
   },
   "outputs": [
    {
     "name": "stdout",
     "output_type": "stream",
     "text": [
      "    pres   hght  temp  dwpt\n",
      "0  991.0  172.0  23.2  19.2\n",
      "1  988.0  198.0  22.8  18.8\n",
      "2  941.6  610.0  19.0  15.0\n",
      "3  925.0  762.0  17.6  13.6\n",
      "4  908.5  914.0  16.3  13.3\n"
     ]
    }
   ],
   "source": [
    "import numpy as np\n",
    "import pandas as pd\n",
    "from matplotlib import pyplot as plt\n",
    "import h5py\n",
    "import soundings\n",
    "from pathlib import Path\n",
    "from a405thermo.thermlib import find_thetaet, find_rsat, tinvert_thetae\n",
    "from a405thermo.constants import constants as c\n",
    "site = 'final_sounding.h5'\n",
    "sounding_file = str(Path(soundings.__path__[0]) / site)\n",
    "with pd.HDFStore(sounding_file) as store:\n",
    "    for key in store:\n",
    "        df_sounding=store[key]\n",
    "print(df_sounding.head())"
   ]
  },
  {
   "cell_type": "markdown",
   "metadata": {},
   "source": [
    "# Problem 1\n",
    "\n",
    "make a 2 column  plot of the temperature and dewpoint as a function height for\n",
    "the bottom 8000 meters of the sounding"
   ]
  },
  {
   "cell_type": "markdown",
   "metadata": {},
   "source": [
    "# Problem 2\n",
    "\n",
    "redraw your problem 1 figure, adding the moist adiabat for the lowest point (172 meters) "
   ]
  },
  {
   "cell_type": "markdown",
   "metadata": {},
   "source": [
    "# Problem 3\n",
    "\n",
    "Write a function that takes as input the dataframe and a height, and finds rv, rl and the buoyancy at that\n",
    "height.   Use it to calculate rv, rl and the buoyancy for air from 172 meters lifted to 4 km.\n"
   ]
  },
  {
   "cell_type": "markdown",
   "metadata": {},
   "source": [
    "# Problem 4\n",
    "\n",
    "Calculate and make a plot of the virtual temperature of mixtures of adiabatic air from 172 meters and environmental air at 4 km.\n",
    "Use 20 mixtures evenly spaced between (100% cloud, 0% environment) and (0 %cloud, 100% environment).\n",
    "Plot the mixing fraction on the x axis and the virtual temperature on the y axis."
   ]
  },
  {
   "cell_type": "code",
   "execution_count": null,
   "metadata": {
    "collapsed": true
   },
   "outputs": [],
   "source": []
  }
 ],
 "metadata": {
  "kernelspec": {
   "display_name": "Python 3",
   "language": "python",
   "name": "python3"
  },
  "language_info": {
   "codemirror_mode": {
    "name": "ipython",
    "version": 3
   },
   "file_extension": ".py",
   "mimetype": "text/x-python",
   "name": "python",
   "nbconvert_exporter": "python",
   "pygments_lexer": "ipython3",
   "version": "3.5.1"
  }
 },
 "nbformat": 4,
 "nbformat_minor": 0
}
