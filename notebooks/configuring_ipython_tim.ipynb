{
 "cells": [
  {
   "cell_type": "markdown",
   "metadata": {},
   "source": [
    "# Configuring IPython\n",
    "\n",
    "Here is my howto on setting up a standard environment.  I'm assuming that\n",
    "you have cloned A405 into a folder in your home directory called\n",
    "~/repos/A405.  The two startup files are in\n",
    "~/repos/A405/utils/ipython_startup: \n",
    "\n",
    "* [ipython_config.py](https://github.com/phaustin/A405/blob/master/utils/ipython_startup/ipython_config.py)\n",
    "\n",
    "  which sets c.InlineBackend.close_figures=False  so figures stay open between cells\n",
    "  \n",
    "  \n",
    "* [00startup.py](https://github.com/phaustin/A405/blob/master/utils/ipython_startup/00startup.py)\n",
    "\n",
    "  which adds ```~/repos/A405``` to sys.path and imports standard modules like numpy, scipy and pyplot"
   ]
  },
  {
   "cell_type": "markdown",
   "metadata": {},
   "source": [
    "### Making the startup files available to ipython notebook\n",
    "\n",
    "1.  Launch a terminal (osx) or git-bash (windows) and cd to\n",
    "    home:\n",
    "    \n",
    "    ```\n",
    "      cd ~\n",
    "    ```\n",
    "\n",
    "1.  move any previous .ipython folder out of the way\n",
    "\n",
    "    ```\n",
    "      mv .ipython .ipython_safe\n",
    "    ```\n",
    "\n",
    "1.  Create a fresh profile\n",
    "\n",
    "    ```\n",
    "      ipython profile create  \n",
    "    ```\n",
    "\n",
    "1.  Confirm that the profile is in the right place with\n",
    "\n",
    "    ```\n",
    "      ipython locate  #(this should print something like c:\\Users\\phil\\.ipython on windows)\n",
    "    ```\n",
    "    \n",
    "1.  Copy the class 00startup.py file into the profile/startup folder\n",
    "\n",
    "    ```\n",
    "      cd ~/.ipython/profile_default/startup\n",
    "      cp ~/repos/A405/utils/ipython_startup/00startup.py .    # the \".\" means copy to current directory\n",
    "    ```\n",
    "\n",
    "1.  Copy the class ipython_config.py file into the profile folder\n",
    "  \n",
    "    ```\n",
    "      cd ~/.ipython/profile_default\n",
    "      cp ~/repos/A405/utils/ipython_startup/ipython_config.py .\n",
    "    ```"
   ]
  },
  {
   "cell_type": "markdown",
   "metadata": {},
   "source": [
    "### Testing the installation"
   ]
  },
  {
   "cell_type": "code",
   "execution_count": 1,
   "metadata": {
    "collapsed": false
   },
   "outputs": [
    {
     "ename": "NameError",
     "evalue": "name 'display' is not defined",
     "output_type": "error",
     "traceback": [
      "\u001b[1;31m---------------------------------------------------------------------------\u001b[0m",
      "\u001b[1;31mNameError\u001b[0m                                 Traceback (most recent call last)",
      "\u001b[1;32m<ipython-input-1-974576b5a186>\u001b[0m in \u001b[0;36m<module>\u001b[1;34m()\u001b[0m\n\u001b[0;32m      1\u001b[0m \u001b[1;31m#make sure these are imported by 00startup.py\u001b[0m\u001b[1;33m\u001b[0m\u001b[1;33m\u001b[0m\u001b[0m\n\u001b[0;32m      2\u001b[0m \u001b[1;33m\u001b[0m\u001b[0m\n\u001b[1;32m----> 3\u001b[1;33m \u001b[0mprint\u001b[0m\u001b[1;33m(\u001b[0m\u001b[0mdisplay\u001b[0m\u001b[1;33m)\u001b[0m\u001b[1;33m\u001b[0m\u001b[0m\n\u001b[0m\u001b[0;32m      4\u001b[0m \u001b[0mprint\u001b[0m\u001b[1;33m(\u001b[0m\u001b[0mnp\u001b[0m\u001b[1;33m)\u001b[0m\u001b[1;33m\u001b[0m\u001b[0m\n\u001b[0;32m      5\u001b[0m \u001b[0mprint\u001b[0m\u001b[1;33m(\u001b[0m\u001b[0msp\u001b[0m\u001b[1;33m)\u001b[0m\u001b[1;33m\u001b[0m\u001b[0m\n",
      "\u001b[1;31mNameError\u001b[0m: name 'display' is not defined"
     ]
    }
   ],
   "source": [
    "#make sure these are imported by 00startup.py\n",
    "\n",
    "print(display)\n",
    "print(np)\n",
    "print(sp)\n",
    "print(plt)"
   ]
  },
  {
   "cell_type": "code",
   "execution_count": null,
   "metadata": {
    "collapsed": true
   },
   "outputs": [],
   "source": [
    "#get the config and print it\n",
    "\n",
    "ip = get_ipython()"
   ]
  },
  {
   "cell_type": "markdown",
   "metadata": {},
   "source": [
    "typing ```ip.config```  should print something like this showing close_figures is false:\n",
    "\n",
    "```\n",
    "{'IPKernelApp': {'connection_file': '/Users/phil/Library/Jupyter/runtime/kernel-35ff1ca9-1a6b-4703-8ea7-9cd7597ac8e2.json'},\n",
    " 'InlineBackend': {'close_figures': False}}\n",
    "```"
   ]
  },
  {
   "cell_type": "code",
   "execution_count": null,
   "metadata": {
    "collapsed": false
   },
   "outputs": [],
   "source": [
    "ip.config"
   ]
  },
  {
   "cell_type": "markdown",
   "metadata": {},
   "source": [
    "### Now see if plot stays open between cells"
   ]
  },
  {
   "cell_type": "code",
   "execution_count": null,
   "metadata": {
    "collapsed": false
   },
   "outputs": [],
   "source": [
    "%matplotlib inline\n",
    "fig,ax=plt.subplots(1,1)\n",
    "ax.plot([0,1],[0,1])"
   ]
  },
  {
   "cell_type": "code",
   "execution_count": null,
   "metadata": {
    "collapsed": false
   },
   "outputs": [],
   "source": [
    "ax.set(title='title here')\n",
    "display(fig)"
   ]
  },
  {
   "cell_type": "code",
   "execution_count": null,
   "metadata": {
    "collapsed": false
   },
   "outputs": [],
   "source": [
    "ax.set(title='wait I like this better')\n",
    "display(fig)"
   ]
  },
  {
   "cell_type": "code",
   "execution_count": null,
   "metadata": {
    "collapsed": false
   },
   "outputs": [],
   "source": [
    "#\n",
    "# and to get rid of it\n",
    "#\n",
    "del fig\n",
    "display(fig)"
   ]
  },
  {
   "cell_type": "code",
   "execution_count": null,
   "metadata": {
    "collapsed": true
   },
   "outputs": [],
   "source": []
  }
 ],
 "metadata": {
  "kernelspec": {
   "display_name": "Python 3",
   "language": "python",
   "name": "python3"
  },
  "language_info": {
   "codemirror_mode": {
    "name": "ipython",
    "version": 3
   },
   "file_extension": ".py",
   "mimetype": "text/x-python",
   "name": "python",
   "nbconvert_exporter": "python",
   "pygments_lexer": "ipython3",
   "version": "3.5.1"
  }
 },
 "nbformat": 4,
 "nbformat_minor": 0
}
