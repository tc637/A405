{
 "cells": [
  {
   "cell_type": "code",
   "execution_count": 1,
   "metadata": {
    "collapsed": true
   },
   "outputs": [],
   "source": [
    "def eqstate(pres, temp):\n",
    "    \"\"\"Uses the ideal gas law to calculate density of dry air\n",
    "    \n",
    "    Inputs: pres (pressure), float or array, [kPa]\n",
    "            temp (temperature), float or array, [K]\n",
    "            \n",
    "    Outputs: rho (density), [kg/m^3]\"\"\"\n",
    "    \n",
    "    import numpy as np\n",
    "    \n",
    "    # convert pres to units of Pa\n",
    "    pres = np.array(pres)*1000.\n",
    "    \n",
    "    # apply the IGL (Thompkins 1.6)\n",
    "    Rd = 287.05 # J kg^-1 K^-1\n",
    "    \n",
    "    rho = pres/(Rd*np.array(temp))\n",
    "    \n",
    "    return(rho) "
   ]
  },
  {
   "cell_type": "code",
   "execution_count": 2,
   "metadata": {
    "collapsed": false
   },
   "outputs": [
    {
     "name": "stdout",
     "output_type": "stream",
     "text": [
      "The density of dry air at 80 kPa and [280, 290, 300] K is [ 0.99534675  0.96102445  0.9289903 ] kg/m^3.\n"
     ]
    }
   ],
   "source": [
    "pres = 80 # kPa\n",
    "temp = [280, 290, 300]\n",
    "\n",
    "rho = eqstate(pres, temp)\n",
    "\n",
    "print(\"The density of dry air at {} kPa and {} K is {} kg/m^3.\".format(pres, temp, rho))"
   ]
  }
 ],
 "metadata": {
  "kernelspec": {
   "display_name": "Python 3",
   "language": "python",
   "name": "python3"
  },
  "language_info": {
   "codemirror_mode": {
    "name": "ipython",
    "version": 3
   },
   "file_extension": ".py",
   "mimetype": "text/x-python",
   "name": "python",
   "nbconvert_exporter": "python",
   "pygments_lexer": "ipython3",
   "version": "3.4.3"
  }
 },
 "nbformat": 4,
 "nbformat_minor": 0
}
