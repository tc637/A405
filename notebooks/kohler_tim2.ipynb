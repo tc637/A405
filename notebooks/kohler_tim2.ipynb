{
 "cells": [
  {
   "cell_type": "markdown",
   "metadata": {},
   "source": [
    "### March 2 homework problem 2\n",
    "\n"
   ]
  },
  {
   "cell_type": "code",
   "execution_count": 1,
   "metadata": {
    "collapsed": false
   },
   "outputs": [
    {
     "name": "stdout",
     "output_type": "stream",
     "text": [
      "critical radius = 0.161 microns\n"
     ]
    }
   ],
   "source": [
    "from a405thermo.constants import constants as c\n",
    "Tinit=c.Tc + 15 #Temperature K\n",
    "Sinit=0.9 #e/es\n",
    "Ms=132 #ammonium sulphae kg/Kmole\n",
    "Mw=18. #water kg/Kmole\n",
    "Sigma=0.075  #N/m\n",
    "vanHoff=3. #van hoff for ammonium bisulphate\n",
    "#calculate kohler coefficients:\n",
    "a=(2.*Sigma)/(c.Rv*Tinit*c.rhol)  #curvature term\n",
    "mass_aero = 1.e-19  #kg\n",
    "b=(vanHoff*Mw)/((4./3.)*np.pi*c.rhol*Ms)*mass_aero   #solution term\n",
    "rcrit = (3*b/a)**0.5  #critical radius\n",
    "print('critical radius = {:5.3f} microns'.format(rcrit*1.e6))"
   ]
  },
  {
   "cell_type": "code",
   "execution_count": 2,
   "metadata": {
    "collapsed": false
   },
   "outputs": [
    {
     "name": "stdout",
     "output_type": "stream",
     "text": [
      "The ratio of (a/r) and (b/r^3) with r = 1.00 microns is 115.49673585538184\n",
      "The ratio of (a/r) and (b/r^3) with r = 0.10 microns is 1.1549673585538185\n"
     ]
    }
   ],
   "source": [
    "rval1 = 1e-6 # m\n",
    "rval2 = 0.1e-6 # m\n",
    "\n",
    "a_rval1 = a/rval1\n",
    "b_rval1 = b/rval1**3\n",
    "\n",
    "a_rval2 = a/rval2\n",
    "b_rval2 = b/rval2**3\n",
    "\n",
    "rat1 = a_rval1/b_rval1\n",
    "rat2 = a_rval2/b_rval2\n",
    "\n",
    "print(\"The ratio of (a/r) and (b/r^3) with r = {:.2f} microns is {}\".format(rval1*1e6, rat1))\n",
    "print(\"The ratio of (a/r) and (b/r^3) with r = {:.2f} microns is {}\".format(rval2*1e6, rat2))"
   ]
  },
  {
   "cell_type": "code",
   "execution_count": 3,
   "metadata": {
    "collapsed": false
   },
   "outputs": [
    {
     "name": "stdout",
     "output_type": "stream",
     "text": [
      "The ratio of (b/r^3) and (ab/r^4) with r = 1.00 microns is 886.5414999999998\n",
      "The ratio of (b/r^3) and (ab/r^4) with r = 0.10 microns is 88.65414999999999\n"
     ]
    }
   ],
   "source": [
    "# so smallest term kept is b/^3\n",
    "c_rval1 = (a*b)/rval1**4\n",
    "c_rval2 = (a*b)/rval2**4\n",
    "\n",
    "rat1 = b_rval1/c_rval1\n",
    "rat2 = b_rval2/c_rval2\n",
    "\n",
    "print(\"The ratio of (b/r^3) and (ab/r^4) with r = {:.2f} microns is {}\".format(rval1*1e6, rat1))\n",
    "print(\"The ratio of (b/r^3) and (ab/r^4) with r = {:.2f} microns is {}\".format(rval2*1e6, rat2))"
   ]
  }
 ],
 "metadata": {
  "kernelspec": {
   "display_name": "Python 3",
   "language": "python",
   "name": "python3"
  },
  "language_info": {
   "codemirror_mode": {
    "name": "ipython",
    "version": 3
   },
   "file_extension": ".py",
   "mimetype": "text/x-python",
   "name": "python",
   "nbconvert_exporter": "python",
   "pygments_lexer": "ipython3",
   "version": "3.5.1"
  }
 },
 "nbformat": 4,
 "nbformat_minor": 0
}
