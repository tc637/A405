{
 "cells": [
  {
   "cell_type": "markdown",
   "metadata": {},
   "source": [
    "# Configuring IPython\n",
    "\n",
    "Here is my howto on setting up a standard environment.  I'm assuming that\n",
    "you have cloned A405 into a folder in your home directory called\n",
    "~/repos/A405.  The two startup files are in\n",
    "~/repos/A405/utils/ipython_startup: \n",
    "\n",
    "* [ipython_config.py](https://github.com/phaustin/A405/blob/master/utils/ipython_startup/ipython_config.py)\n",
    "\n",
    "  which sets c.InlineBackend.close_figures=False  so figures stay open between cells\n",
    "  \n",
    "  \n",
    "* [00startup.py](https://github.com/phaustin/A405/blob/master/utils/ipython_startup/00startup.py)\n",
    "\n",
    "  which adds ```~/repos/A405``` to sys.path and imports standard modules like numpy, scipy and pyplot"
   ]
  },
  {
   "cell_type": "markdown",
   "metadata": {},
   "source": [
    "### Making the startup files available to ipython notebook\n",
    "\n",
    "1.  Launch a terminal (osx) or git-bash (windows) and cd to\n",
    "    home:\n",
    "    \n",
    "    ```\n",
    "      cd ~\n",
    "    ```\n",
    "\n",
    "1.  move any previous .ipython folder out of the way\n",
    "\n",
    "    ```\n",
    "      mv .ipython .ipython_safe\n",
    "    ```\n",
    "\n",
    "1.  Create a fresh profile\n",
    "\n",
    "    ```\n",
    "      ipython profile create  \n",
    "    ```\n",
    "\n",
    "1.  Confirm that the profile is in the right place with\n",
    "\n",
    "    ```\n",
    "      ipython locate  #(this should print something like c:\\Users\\phil\\.ipython on windows)\n",
    "    ```\n",
    "    \n",
    "1.  Copy the class 00startup.py file into the profile/startup folder\n",
    "\n",
    "    ```\n",
    "      cd ~/.ipython/profile_default/startup\n",
    "      cp ~/repos/A405/utils/ipython_startup/00startup.py .    # the \".\" means copy to current directory\n",
    "    ```\n",
    "\n",
    "1.  Copy the class ipython_config.py file into the profile folder\n",
    "  \n",
    "    ```\n",
    "      cd ~/.ipython/profile_default\n",
    "      cp ~/repos/A405/utils/ipython_startup/ipython_config.py .\n",
    "    ```"
   ]
  },
  {
   "cell_type": "markdown",
   "metadata": {},
   "source": [
    "### Testing the installation"
   ]
  },
  {
   "cell_type": "code",
   "execution_count": 16,
   "metadata": {
    "collapsed": false
   },
   "outputs": [
    {
     "name": "stdout",
     "output_type": "stream",
     "text": [
      "<function display at 0x102ad58c8>\n",
      "<module 'numpy' from '/Users/phil/miniconda3/lib/python3.4/site-packages/numpy/__init__.py'>\n",
      "<module 'scipy' from '/Users/phil/miniconda3/lib/python3.4/site-packages/scipy/__init__.py'>\n",
      "<module 'matplotlib.pyplot' from '/Users/phil/miniconda3/lib/python3.4/site-packages/matplotlib/pyplot.py'>\n"
     ]
    }
   ],
   "source": [
    "#make sure these are imported by 00startup.py\n",
    "\n",
    "print(display)\n",
    "print(np)\n",
    "print(sp)\n",
    "print(plt)"
   ]
  },
  {
   "cell_type": "code",
   "execution_count": 10,
   "metadata": {
    "collapsed": true
   },
   "outputs": [],
   "source": [
    "#get the config and print it\n",
    "\n",
    "ip = get_ipython()"
   ]
  },
  {
   "cell_type": "markdown",
   "metadata": {},
   "source": [
    "typing ```ip.config```  should print something like this showing close_figures is false:\n",
    "\n",
    "```\n",
    "{'IPKernelApp': {'connection_file': '/Users/phil/Library/Jupyter/runtime/kernel-35ff1ca9-1a6b-4703-8ea7-9cd7597ac8e2.json'},\n",
    " 'InlineBackend': {'close_figures': False}}\n",
    "```"
   ]
  },
  {
   "cell_type": "code",
   "execution_count": 11,
   "metadata": {
    "collapsed": false
   },
   "outputs": [
    {
     "data": {
      "text/plain": [
       "{'IPKernelApp': {'connection_file': '/Users/phil/Library/Jupyter/runtime/kernel-35ff1ca9-1a6b-4703-8ea7-9cd7597ac8e2.json'},\n",
       " 'InlineBackend': {'close_figures': False},\n",
       " 'InlineBackendConfig': {}}"
      ]
     },
     "execution_count": 11,
     "metadata": {},
     "output_type": "execute_result"
    }
   ],
   "source": [
    "ip.config"
   ]
  },
  {
   "cell_type": "markdown",
   "metadata": {},
   "source": [
    "### Now see if plot stays open between cells"
   ]
  },
  {
   "cell_type": "code",
   "execution_count": 12,
   "metadata": {
    "collapsed": false
   },
   "outputs": [
    {
     "data": {
      "text/plain": [
       "[<matplotlib.lines.Line2D at 0x108674f60>]"
      ]
     },
     "execution_count": 12,
     "metadata": {},
     "output_type": "execute_result"
    },
    {
     "data": {
      "image/png": "[encoded data removed]",
      "text/plain": [
       "<matplotlib.figure.Figure at 0x108674f98>"
      ]
     },
     "metadata": {},
     "output_type": "display_data"
    }
   ],
   "source": [
    "%matplotlib inline\n",
    "fig,ax=plt.subplots(1,1)\n",
    "ax.plot([0,1],[0,1])"
   ]
  },
  {
   "cell_type": "code",
   "execution_count": 13,
   "metadata": {
    "collapsed": false
   },
   "outputs": [
    {
     "data": {
      "image/png": "[encoded data removed]",
      "text/plain": [
       "<matplotlib.figure.Figure at 0x108674f98>"
      ]
     },
     "metadata": {},
     "output_type": "display_data"
    }
   ],
   "source": [
    "ax.set(title='title here')\n",
    "display(fig)"
   ]
  },
  {
   "cell_type": "code",
   "execution_count": 14,
   "metadata": {
    "collapsed": false
   },
   "outputs": [
    {
     "data": {
      "image/png": "[encoded data removed]",
      "text/plain": [
       "<matplotlib.figure.Figure at 0x108674f98>"
      ]
     },
     "metadata": {},
     "output_type": "display_data"
    }
   ],
   "source": [
    "ax.set(title='wait I like this better')\n",
    "display(fig)"
   ]
  },
  {
   "cell_type": "code",
   "execution_count": 15,
   "metadata": {
    "collapsed": false
   },
   "outputs": [
    {
     "ename": "NameError",
     "evalue": "name 'fig' is not defined",
     "output_type": "error",
     "traceback": [
      "\u001b[0;31m---------------------------------------------------------------------------\u001b[0m",
      "\u001b[0;31mNameError\u001b[0m                                 Traceback (most recent call last)",
      "\u001b[0;32m<ipython-input-15-195a8d55887b>\u001b[0m in \u001b[0;36m<module>\u001b[0;34m()\u001b[0m\n\u001b[1;32m      3\u001b[0m \u001b[0;31m#\u001b[0m\u001b[0;34m\u001b[0m\u001b[0;34m\u001b[0m\u001b[0m\n\u001b[1;32m      4\u001b[0m \u001b[0;32mdel\u001b[0m \u001b[0mfig\u001b[0m\u001b[0;34m\u001b[0m\u001b[0m\n\u001b[0;32m----> 5\u001b[0;31m \u001b[0mdisplay\u001b[0m\u001b[0;34m(\u001b[0m\u001b[0mfig\u001b[0m\u001b[0;34m)\u001b[0m\u001b[0;34m\u001b[0m\u001b[0m\n\u001b[0m",
      "\u001b[0;31mNameError\u001b[0m: name 'fig' is not defined"
     ]
    }
   ],
   "source": [
    "#\n",
    "# and to get rid of it\n",
    "#\n",
    "del fig\n",
    "display(fig)"
   ]
  },
  {
   "cell_type": "code",
   "execution_count": null,
   "metadata": {
    "collapsed": true
   },
   "outputs": [],
   "source": []
  }
 ],
 "metadata": {
  "kernelspec": {
   "display_name": "Python 3",
   "language": "python",
   "name": "python3"
  },
  "language_info": {
   "codemirror_mode": {
    "name": "ipython",
    "version": 3
   },
   "file_extension": ".py",
   "mimetype": "text/x-python",
   "name": "python",
   "nbconvert_exporter": "python",
   "pygments_lexer": "ipython3",
   "version": "3.4.4"
  }
 },
 "nbformat": 4,
 "nbformat_minor": 0
}
