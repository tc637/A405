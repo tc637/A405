{
 "cells": [
  {
   "cell_type": "markdown",
   "metadata": {},
   "source": [
    "### Retrieve soundings directly using python\n",
    "\n",
    "This notebook uses the [wyominglib](https://github.com/phaustin/A405/blob/master/soundings/wyominglib.py) module, which parses  sounding data from [U. Wyoming](http://weather.uwyo.edu/upperair/sounding.html)\n",
    "with [BeautifulSoup](http://www.crummy.com/software/BeautifulSoup/)"
   ]
  },
  {
   "cell_type": "code",
   "execution_count": 1,
   "metadata": {
    "collapsed": false
   },
   "outputs": [
    {
     "ename": "ImportError",
     "evalue": "No module named 'tzlocal'",
     "output_type": "error",
     "traceback": [
      "\u001b[1;31m---------------------------------------------------------------------------\u001b[0m",
      "\u001b[1;31mImportError\u001b[0m                               Traceback (most recent call last)",
      "\u001b[1;32m<ipython-input-1-884ad6afe200>\u001b[0m in \u001b[0;36m<module>\u001b[1;34m()\u001b[0m\n\u001b[0;32m      8\u001b[0m \u001b[1;32mimport\u001b[0m \u001b[0mdatetime\u001b[0m\u001b[1;33m\u001b[0m\u001b[0m\n\u001b[0;32m      9\u001b[0m \u001b[1;32mfrom\u001b[0m \u001b[0mdatetime\u001b[0m \u001b[1;32mimport\u001b[0m \u001b[0mtimezone\u001b[0m \u001b[1;32mas\u001b[0m \u001b[0mtz\u001b[0m\u001b[1;33m\u001b[0m\u001b[0m\n\u001b[1;32m---> 10\u001b[1;33m \u001b[1;32mimport\u001b[0m \u001b[0mtzlocal\u001b[0m   \u001b[1;31m#pip install tzlocal\u001b[0m\u001b[1;33m\u001b[0m\u001b[0m\n\u001b[0m\u001b[0;32m     11\u001b[0m \u001b[1;32mimport\u001b[0m \u001b[0mh5py\u001b[0m\u001b[1;33m\u001b[0m\u001b[0m\n\u001b[0;32m     12\u001b[0m \u001b[1;32mfrom\u001b[0m \u001b[0mpprint\u001b[0m \u001b[1;32mimport\u001b[0m \u001b[0mpformat\u001b[0m\u001b[1;33m\u001b[0m\u001b[0m\n",
      "\u001b[1;31mImportError\u001b[0m: No module named 'tzlocal'"
     ]
    }
   ],
   "source": [
    "from importlib import reload\n",
    "import soundings.wyominglib\n",
    "reload(soundings.wyominglib)\n",
    "from soundings.wyominglib import make_frames\n",
    "import pandas as pd\n",
    "from matplotlib import pyplot as plt\n",
    "import requests\n",
    "import datetime\n",
    "from datetime import timezone as tz\n",
    "import tzlocal   #pip install tzlocal\n",
    "import h5py\n",
    "from pprint import pformat\n",
    "print(help(make_frames))"
   ]
  },
  {
   "cell_type": "markdown",
   "metadata": {},
   "source": [
    "### 1.  Form the url using a template with variable substitution from a dictionary"
   ]
  },
  {
   "cell_type": "code",
   "execution_count": null,
   "metadata": {
    "collapsed": true
   },
   "outputs": [],
   "source": [
    "#this template holds the text that will always be the same,\n",
    "# plus variables that will be substituted in based on dictionary values\n",
    "\n",
    "url_template=(\"http://weather.uwyo.edu/cgi-bin/sounding?\"\n",
    "              \"region={region:s}\"\n",
    "              \"&TYPE=TEXT%3ALIST\"\n",
    "              \"&YEAR={year:s}\"\n",
    "              \"&MONTH={month:s}\"\n",
    "              \"&FROM={start:s}\"\n",
    "              \"&TO={stop:s}\"\n",
    "              \"&STNM={station:s}\")"
   ]
  },
  {
   "cell_type": "markdown",
   "metadata": {},
   "source": [
    "#### Uncomment one of these dictionaries to get a set of soundings.  Dictionary values are inserted into the url_tempate to form the query url.  See wikipedia on [query strings](https://en.wikipedia.org/wiki/Query_string)"
   ]
  },
  {
   "cell_type": "code",
   "execution_count": null,
   "metadata": {
    "collapsed": false
   },
   "outputs": [],
   "source": [
    "values=dict(region='samer',year='2013',month='2',start='0100',stop='2800',station='82965')\n",
    "#values=dict(region='nz',year='2013',month='2',start='0100',stop='2800',station='93417')\n",
    "#values=dict(region='naconf',year='2013',month='2',start='0100',stop='2800',station='71802')\n",
    "#values=dict(region='ant',year='2013',month='07',start='0100',stop='2800',station='89009')\n",
    "url=url_template.format_map(values)\n",
    "print('here is the url we call to get the soundings: \\n',url)"
   ]
  },
  {
   "cell_type": "markdown",
   "metadata": {},
   "source": [
    "### 2. Use the requests module to grab the web page"
   ]
  },
  {
   "cell_type": "code",
   "execution_count": null,
   "metadata": {
    "collapsed": false
   },
   "outputs": [],
   "source": [
    "#\n",
    "# Make do_web False to reuse a page for debugging\n",
    "#\n",
    "do_web = True\n",
    "backup_file='backup.txt'\n",
    "if do_web:\n",
    "    #\n",
    "    # grab the web page that is loaded with this url\n",
    "    #\n",
    "    html_doc = requests.get(url).text\n",
    "    print('read {} bytes'.format(len(html_doc)))\n",
    "    with open(backup_file,'w') as f:\n",
    "        f.write(html_doc)\n",
    "    if len(html_doc) < 2000:\n",
    "        print('debug: short html_doc, something went wrong:',html_doc)\n",
    "        sys.exit(1)\n",
    "else:\n",
    "    with open(backup_file,'r') as f:\n",
    "        html_doc=f.read()"
   ]
  },
  {
   "cell_type": "markdown",
   "metadata": {
    "collapsed": false
   },
   "source": [
    "### 3.  Parse the sounding page into two dictionaries\n",
    "\n",
    "attr_dict holds attributes ['header', 'site_id','longitude','latitude', 'elevation', 'units']\n",
    "\n",
    "sounding_dict holds the soundings indexed by datetime"
   ]
  },
  {
   "cell_type": "code",
   "execution_count": null,
   "metadata": {
    "collapsed": false
   },
   "outputs": [],
   "source": [
    "attr_dict,sounding_dict = make_frames(html_doc)"
   ]
  },
  {
   "cell_type": "markdown",
   "metadata": {},
   "source": [
    "### Create a timestamp and convert to UTC"
   ]
  },
  {
   "cell_type": "code",
   "execution_count": null,
   "metadata": {
    "collapsed": false
   },
   "outputs": [],
   "source": [
    "mytz=tzlocal.get_localzone()\n",
    "now=datetime.datetime.now(tz=mytz)\n",
    "now=now.astimezone(tz.utc)\n",
    "timestamp=now.strftime('%Y-%m-%d %H:%M:%S UTC')\n",
    "print(timestamp)"
   ]
  },
  {
   "cell_type": "markdown",
   "metadata": {},
   "source": [
    "### Add history, query and timestamp attributes to the dictionary, and order the keys"
   ]
  },
  {
   "cell_type": "code",
   "execution_count": null,
   "metadata": {
    "collapsed": true
   },
   "outputs": [],
   "source": [
    "attr_dict['timestamp']=timestamp\n",
    "attr_dict['history']=\"written by test_requests.py\"\n",
    "attr_dict['query']= url\n",
    "#\n",
    "# write the keys out in this order\n",
    "#\n",
    "key_list=['header', 'site_id','longitude','latitude', 'elevation', 'units','history','query','timestamp']"
   ]
  },
  {
   "cell_type": "markdown",
   "metadata": {},
   "source": [
    "### Use HDFStore to write the soundings out keyed by date"
   ]
  },
  {
   "cell_type": "code",
   "execution_count": null,
   "metadata": {
    "collapsed": false
   },
   "outputs": [],
   "source": [
    "name = 'out.h5'    \n",
    "with pd.HDFStore(name,'w') as store:\n",
    "    for key,value in sounding_dict.items():\n",
    "        #need to insert Y in front of the year because\n",
    "        #h5py groups need to be legal python variables\n",
    "        #(remove Y to see error message)\n",
    "        thetime=key.strftime(\"Y%Y_%b_%d_%HZ\")  \n",
    "        store.put(thetime,value,format='table')"
   ]
  },
  {
   "cell_type": "markdown",
   "metadata": {},
   "source": [
    "### Use h5py to store the attributes as metadata"
   ]
  },
  {
   "cell_type": "code",
   "execution_count": null,
   "metadata": {
    "collapsed": false
   },
   "outputs": [],
   "source": [
    "with h5py.File(name,'a') as f:\n",
    "        for key in key_list:\n",
    "            print('writing key, value: ',key,attr_dict[key])\n",
    "            f.attrs[key]=attr_dict[key]\n",
    "        f.close()"
   ]
  },
  {
   "cell_type": "markdown",
   "metadata": {},
   "source": [
    "### Show how to read the data and metadata back in\n",
    "\n",
    "Need to trap IOError because there are 4 empty variables in the hdf file\n",
    "that can't be read.  See [this discussion](https://github.com/h5py/h5py/issues/279)\n",
    "about how to fix this in future h5py releases."
   ]
  },
  {
   "cell_type": "code",
   "execution_count": null,
   "metadata": {
    "collapsed": false,
    "scrolled": true
   },
   "outputs": [],
   "source": [
    "attributes={}\n",
    "with h5py.File(name,'r') as f:\n",
    "    keys=f.attrs.keys()\n",
    "    for key in keys:\n",
    "        try:\n",
    "            attributes[key]=f.attrs[key]\n",
    "        except IOError:\n",
    "            print('empty key: ',key)\n",
    "print('\\nread in these attributes: \\n\\n',pformat(attributes))"
   ]
  },
  {
   "cell_type": "code",
   "execution_count": null,
   "metadata": {
    "collapsed": false
   },
   "outputs": [],
   "source": [
    "name = 'out.h5'    \n",
    "separator= '\\n' + '+'*30 + '\\n'\n",
    "sounding_dict={}\n",
    "with pd.HDFStore(name,'r') as store:\n",
    "    times=store.keys()\n",
    "    for the_time in times:\n",
    "        sounding_dict[the_time]=store[the_time]\n",
    "sounding=sounding_dict[times[0]]\n",
    "print('{0:}sounding times:{1:}{0:} '.format(separator,times))\n",
    "print('{0:}columns: {1:}{0:} '.format(separator,pformat(sounding.columns)))\n",
    "title_string=attributes['header']\n",
    "index=title_string.find(' Observations at')\n",
    "location=title_string[:index]\n",
    "title='{} at {}'.format(location,times[0][2:])\n",
    "print('title: :',title)\n",
    "units=attributes['units'].split(';')\n",
    "units_dict={}\n",
    "for count,var in enumerate(sounding.columns):\n",
    "    units_dict[var]=units[count]\n",
    "print('variables with units: \\n',pformat(units_dict))"
   ]
  },
  {
   "cell_type": "code",
   "execution_count": null,
   "metadata": {
    "collapsed": false,
    "scrolled": true
   },
   "outputs": [],
   "source": [
    "%matplotlib inline\n",
    "key=times[3]  #pick the third sounding\n",
    "the_sounding=sounding_dict[key]\n",
    "m2km=1.e-3  #convert meters to km\n",
    "plt.style.use('ggplot')\n",
    "fig,ax=plt.subplots(1,1,figsize=(8,10))\n",
    "ax.plot(the_sounding['temp'],the_sounding['hght']*m2km,label='temp')\n",
    "ax.plot(the_sounding['dwpt'],the_sounding['hght']*m2km,label='dewpoint')\n",
    "ax.legend()\n",
    "out=ax.set(xlabel=\"temperature (deg C)\",ylabel=\"height (km)\",\n",
    "      title =title)\n",
    "out=ax.set(ylim=[0,2],xlim=[-30,30])"
   ]
  },
  {
   "cell_type": "code",
   "execution_count": null,
   "metadata": {
    "collapsed": false
   },
   "outputs": [],
   "source": [
    "fig,ax=plt.subplots(1,1,figsize=(8,10))\n",
    "for the_time in times:\n",
    "    the_sound=sounding_dict[the_time]\n",
    "    ax.plot(the_sound['dwpt'],the_sound['hght']*m2km)\n",
    "out=ax.set(xlabel=\"dew point temperature (deg C)\",ylabel=\"height (km)\",\n",
    "      title =location)\n",
    "out=ax.set(ylim=[0,2],xlim=[-30,30])\n",
    "print('Dew point temperature between {} to {}'.format(times[0],times[-1]))"
   ]
  },
  {
   "cell_type": "code",
   "execution_count": null,
   "metadata": {
    "collapsed": true
   },
   "outputs": [],
   "source": []
  }
 ],
 "metadata": {
  "kernelspec": {
   "display_name": "Python 3",
   "language": "python",
   "name": "python3"
  },
  "language_info": {
   "codemirror_mode": {
    "name": "ipython",
    "version": 3
   },
   "file_extension": ".py",
   "mimetype": "text/x-python",
   "name": "python",
   "nbconvert_exporter": "python",
   "pygments_lexer": "ipython3",
   "version": "3.5.1"
  }
 },
 "nbformat": 4,
 "nbformat_minor": 0
}
